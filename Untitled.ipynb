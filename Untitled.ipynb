{
 "cells": [
  {
   "cell_type": "code",
   "execution_count": 5,
   "metadata": {},
   "outputs": [
    {
     "name": "stdout",
     "output_type": "stream",
     "text": [
      "İsminiz:Ali\n",
      "Yaşınız:23\n",
      "100.yaşınıza geldiğiniz yıl--> 2097\n"
     ]
    }
   ],
   "source": [
    "isim=str(input(\"İsminiz:\"))\n",
    "yas=int(input(\"Yaşınız:\"))\n",
    "kalan=100-yas\n",
    "yıl=2020+kalan\n",
    "print(\"100.yaşınıza geldiğiniz yıl-->\",yıl)\n"
   ]
  },
  {
   "cell_type": "code",
   "execution_count": null,
   "metadata": {},
   "outputs": [],
   "source": []
  }
 ],
 "metadata": {
  "kernelspec": {
   "display_name": "Python 3",
   "language": "python",
   "name": "python3"
  },
  "language_info": {
   "codemirror_mode": {
    "name": "ipython",
    "version": 3
   },
   "file_extension": ".py",
   "mimetype": "text/x-python",
   "name": "python",
   "nbconvert_exporter": "python",
   "pygments_lexer": "ipython3",
   "version": "3.7.4"
  }
 },
 "nbformat": 4,
 "nbformat_minor": 2
}
